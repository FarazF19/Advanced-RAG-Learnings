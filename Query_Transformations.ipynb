{
 "cells": [
  {
   "cell_type": "markdown",
   "id": "41c6a3e1",
   "metadata": {},
   "source": [
    "# Query Transformations\n",
    "Query transformations are a set of approaches focused on re-writing and / or modifying questions for retrieval."
   ]
  },
  {
   "cell_type": "markdown",
   "id": "e2a5e428",
   "metadata": {},
   "source": [
    "![Alt text](query_transform.png)\n"
   ]
  },
  {
   "cell_type": "code",
   "execution_count": 2,
   "id": "8ee5bcd3",
   "metadata": {},
   "outputs": [
    {
     "data": {
      "text/plain": [
       "True"
      ]
     },
     "execution_count": 2,
     "metadata": {},
     "output_type": "execute_result"
    }
   ],
   "source": [
    "from dotenv import load_dotenv, find_dotenv\n",
    "load_dotenv(find_dotenv())"
   ]
  },
  {
   "cell_type": "code",
   "execution_count": 3,
   "id": "b7a9bd1b",
   "metadata": {},
   "outputs": [],
   "source": [
    "import os\n",
    "os.environ['LANGCHAIN_TRACING_V2'] = 'true'\n",
    "os.environ['LANGCHAIN_ENDPOINT'] = 'https://api.smith.langchain.com'\n",
    "os.environ['LANGCHAIN_PROJECT'] = 'advanced-rag'\n",
    "os.environ['GROQ_API_KEY'] = os.getenv(\"GROQ_API_KEY\")\n",
    "os.environ['LANGCHAIN_API_KEY'] = os.getenv(\"LANGCHAIN_API_KEY\")"
   ]
  },
  {
   "cell_type": "markdown",
   "id": "dc12ad33",
   "metadata": {},
   "source": [
    "# Part 1: Multi Query"
   ]
  },
  {
   "cell_type": "markdown",
   "id": "1e4d375e",
   "metadata": {},
   "source": [
    "![Alt text](multi_query.png)\n",
    "\n",
    "\n",
    "\n",
    "\n",
    "Docs:\n",
    "\n",
    "https://python.langchain.com/docs/modules/data_connection/retrievers/MultiQueryRetriever\n"
   ]
  },
  {
   "cell_type": "markdown",
   "id": "13ccc0aa",
   "metadata": {},
   "source": [
    "### Index"
   ]
  },
  {
   "cell_type": "code",
   "execution_count": 4,
   "id": "90c497cf",
   "metadata": {},
   "outputs": [
    {
     "name": "stderr",
     "output_type": "stream",
     "text": [
      "USER_AGENT environment variable not set, consider setting it to identify your requests.\n",
      "C:\\Users\\HAROON TRADERS\\AppData\\Local\\Temp\\ipykernel_14636\\4106349506.py:34: LangChainDeprecationWarning: The class `HuggingFaceBgeEmbeddings` was deprecated in LangChain 0.2.2 and will be removed in 1.0. An updated version of the class exists in the :class:`~langchain-huggingface package and should be used instead. To use it run `pip install -U :class:`~langchain-huggingface` and import as `from :class:`~langchain_huggingface import HuggingFaceEmbeddings``.\n",
      "  hf_embeddings = HuggingFaceBgeEmbeddings(\n"
     ]
    }
   ],
   "source": [
    "#### INDEXING ####\n",
    "\n",
    "import bs4\n",
    "from langchain_community.document_loaders import WebBaseLoader\n",
    "from langchain.text_splitter import RecursiveCharacterTextSplitter\n",
    "from langchain_community.document_loaders import WebBaseLoader\n",
    "from langchain_community.vectorstores import FAISS\n",
    "from langchain_core.output_parsers import StrOutputParser\n",
    "from langchain_groq import ChatGroq\n",
    "from langchain_community.embeddings import HuggingFaceBgeEmbeddings\n",
    "\n",
    "loader = WebBaseLoader(\n",
    "    web_paths=(\"https://lilianweng.github.io/posts/2023-06-23-agent/\",),\n",
    "    bs_kwargs=dict(\n",
    "        parse_only=bs4.SoupStrainer(\n",
    "            class_=(\"post-content\", \"post-title\", \"post-header\")\n",
    "        )\n",
    "    ),\n",
    ")\n",
    "blog_docs = loader.load()\n",
    "\n",
    "# Split\n",
    "text_splitter = RecursiveCharacterTextSplitter.from_tiktoken_encoder(\n",
    "    chunk_size=300, \n",
    "    chunk_overlap=50)\n",
    "\n",
    "# Make splits\n",
    "splits = text_splitter.split_documents(blog_docs)\n",
    "\n",
    "# Index\n",
    "model_name = \"BAAI/bge-small-en\"\n",
    "model_kwargs = {\"device\": \"cpu\"}\n",
    "encode_kwargs = {\"normalize_embeddings\": True}\n",
    "hf_embeddings = HuggingFaceBgeEmbeddings(\n",
    "    model_name=model_name, model_kwargs=model_kwargs, encode_kwargs=encode_kwargs\n",
    ")\n",
    "vectorstore = FAISS.from_documents(documents=splits, \n",
    "                                    embedding=hf_embeddings)\n",
    "\n",
    "retriever = vectorstore.as_retriever()"
   ]
  },
  {
   "cell_type": "markdown",
   "id": "0e4cad9e",
   "metadata": {},
   "source": [
    "### Multi Query Prompt"
   ]
  },
  {
   "cell_type": "code",
   "execution_count": null,
   "id": "573155df",
   "metadata": {},
   "outputs": [],
   "source": [
    "from langchain_core.prompts import ChatPromptTemplate\n",
    "\n",
    "# Multi Query: One Question, Multiple Perspectives.\n",
    "\n",
    "template=\"\"\"\n",
    "You are an AI language model assistant. Your task is to generate five \n",
    "different versions of the given user question to retrieve relevant documents from a vector \n",
    "database. By generating multiple perspectives on the user question, your goal is to help\n",
    "the user overcome some of the limitations of the distance-based similarity search. \n",
    "Provide these alternative questions separated by newlines. Original question: {question}\"\"\"\n",
    "\n",
    "\n",
    "prompt_perspectives = ChatPromptTemplate.from_template(template)\n",
    "\n",
    "\n",
    "\n",
    "\n",
    "generate_queries=(prompt_perspectives | ChatGroq(model=\"openai/gpt-oss-120b\", temperature=0)|StrOutputParser()| (lambda x: x.split(\"\\n\")))"
   ]
  },
  {
   "cell_type": "code",
   "execution_count": 23,
   "id": "16e9cdd5",
   "metadata": {},
   "outputs": [
    {
     "data": {
      "text/plain": [
       "['What does the term “task decomposition” mean?  ',\n",
       " 'How is task decomposition defined in the context of problem solving?  ',\n",
       " 'Can you explain the concept of task decomposition?  ',\n",
       " 'What are the principles and steps involved in task decomposition?  ',\n",
       " 'In what ways is a complex task broken down through task decomposition?']"
      ]
     },
     "execution_count": 23,
     "metadata": {},
     "output_type": "execute_result"
    }
   ],
   "source": [
    "generate_queries.invoke(\"What is Task Decomposition\")"
   ]
  },
  {
   "cell_type": "code",
   "execution_count": 24,
   "id": "d397d306",
   "metadata": {},
   "outputs": [
    {
     "data": {
      "text/plain": [
       "8"
      ]
     },
     "execution_count": 24,
     "metadata": {},
     "output_type": "execute_result"
    }
   ],
   "source": [
    "# Load Unique documents only to avoid duplicates to be retrieved\n",
    "\n",
    "from langchain.load import dumps, loads\n",
    "\n",
    "def get_unique_union(documents: list[list]):\n",
    "    \"\"\" Unique union of retrieved docs \"\"\"\n",
    "    # Flatten list of lists, and convert each Document to string\n",
    "    flattened_docs = [dumps(doc) for sublist in documents for doc in sublist]\n",
    "\n",
    "    # Get unique documents\n",
    "    unique_docs = list(set(flattened_docs))\n",
    "\n",
    "    # Return\n",
    "    return [loads(doc) for doc in unique_docs]\n",
    "\n",
    "# Retrieve\n",
    "question = \"What is task decomposition for LLM agents?\"\n",
    "retrieval_chain = generate_queries | retriever.map() | get_unique_union\n",
    "docs = retrieval_chain.invoke({\"question\":question})\n",
    "len(docs)"
   ]
  },
  {
   "cell_type": "code",
   "execution_count": 25,
   "id": "d05138c5",
   "metadata": {},
   "outputs": [
    {
     "data": {
      "text/plain": [
       "'**Task decomposition** is the process by which an LLM‑powered autonomous agent breaks a large, complex request into a set of smaller, manageable sub‑goals or sub‑tasks that can be tackled one‑by‑one.  \\n\\nIn the agent architecture it belongs to the **Planning** component:\\n\\n* The agent first **identifies the sub‑goals** (e.g., “What are the steps for X?” or “List the sub‑tasks needed to achieve X?”).  \\n* It then **orders or structures** those sub‑goals, often using prompting techniques such as **Chain‑of‑Thought (CoT)** – “think step‑by‑step” – or the more advanced **Tree‑of‑Thoughts**, which generates multiple possible thoughts at each step and searches the resulting tree (BFS/DFS) to pick the best path.  \\n* Decomposition can be performed automatically by the LLM with simple prompts (“Steps for XYZ.\\u202f1.”), with task‑specific instructions (e.g., “Write a story outline”), or with human input when needed.\\n\\nThe purpose of task decomposition is to let the LLM handle complex problems by **splitting them into simpler pieces**, enabling more reliable reasoning, easier tool use, and better tracking of progress and memory.'"
      ]
     },
     "execution_count": 25,
     "metadata": {},
     "output_type": "execute_result"
    }
   ],
   "source": [
    "from operator import itemgetter\n",
    "from langchain_core.runnables import RunnablePassthrough\n",
    "\n",
    "# RAG\n",
    "template = \"\"\"Answer the following question based on this context:{context}\n",
    "\n",
    "Question: {question}\n",
    "\n",
    "\"\"\"\n",
    "\n",
    "\n",
    "prompt = ChatPromptTemplate.from_template(template)\n",
    "\n",
    "llm= ChatGroq(model=\"openai/gpt-oss-120b\", temperature=0)\n",
    "\n",
    "rag_chain= ({\"context\":retrieval_chain,\"question\":itemgetter(\"question\")} | prompt | llm  | StrOutputParser())\n",
    "\n",
    "\n",
    "rag_chain.invoke({\"question\":question})\n"
   ]
  },
  {
   "cell_type": "markdown",
   "id": "105aac37",
   "metadata": {},
   "source": [
    "# Part 2: RAG-Fusion"
   ]
  },
  {
   "cell_type": "markdown",
   "id": "d78f4daf",
   "metadata": {},
   "source": [
    "![Alt text](RAG_Fusion.png)\n"
   ]
  },
  {
   "cell_type": "markdown",
   "id": "da557a1d",
   "metadata": {},
   "source": [
    "### Prompt"
   ]
  },
  {
   "cell_type": "code",
   "execution_count": 26,
   "id": "752c4d9a",
   "metadata": {},
   "outputs": [],
   "source": [
    "from langchain.prompts import ChatPromptTemplate\n",
    "\n",
    "# RAG-Fusion: Related\n",
    "template = \"\"\"You are a helpful assistant that generates multiple search queries based on a single input query. \\n\n",
    "Generate multiple search queries related to: {question} \\n\n",
    "Output (4 queries):\"\"\"\n",
    "\n",
    "prompt_rag_fusion = ChatPromptTemplate.from_template(template)"
   ]
  },
  {
   "cell_type": "code",
   "execution_count": 32,
   "id": "a43ef68f",
   "metadata": {},
   "outputs": [],
   "source": [
    "from langchain_core.output_parsers import StrOutputParser\n",
    "from langchain_groq import ChatGroq\n",
    "\n",
    "generate_queries = (\n",
    "    prompt_rag_fusion \n",
    "    | ChatGroq(model=\"openai/gpt-oss-20b\", temperature=0)\n",
    "    | StrOutputParser() \n",
    "    | (lambda x: x.split(\"\\n\"))\n",
    ")"
   ]
  },
  {
   "cell_type": "code",
   "execution_count": 33,
   "id": "2e398696",
   "metadata": {},
   "outputs": [
    {
     "data": {
      "text/plain": [
       "['1. “Task decomposition in large language model agents: definition and key concepts”  ',\n",
       " '2. “How do LLM agents perform task decomposition? Step‑by‑step examples”  ',\n",
       " '3. “Benefits of task decomposition for autonomous LLM agents”  ',\n",
       " '4. “Implementing task decomposition in LLM‑based agents: code snippets and best practices”']"
      ]
     },
     "execution_count": 33,
     "metadata": {},
     "output_type": "execute_result"
    }
   ],
   "source": [
    "generate_queries.invoke(\"What is Task Decomposition for LLM agents?\")"
   ]
  },
  {
   "cell_type": "markdown",
   "id": "4ea80733",
   "metadata": {},
   "source": [
    "# RRF Explanation\n",
    "\n",
    "## Question Rankings\n",
    "- **Question A**  \n",
    "  1. Doc1  \n",
    "  2. Doc4  \n",
    "  3. Doc3  \n",
    "  4. Doc2  \n",
    "\n",
    "- **Question B**  \n",
    "  1. Doc3  \n",
    "  2. Doc1  \n",
    "  3. Doc2  \n",
    "  4. Doc4  \n",
    "\n",
    "- **Question C**  \n",
    "  1. Doc4  \n",
    "  2. Doc3  \n",
    "  3. Doc1  \n",
    "  4. Doc2  \n",
    "\n",
    "---\n",
    "\n",
    "## Rank Positions\n",
    "- **Doc1**  \n",
    "  - Question A rank: **1**  \n",
    "  - Question B rank: **2**  \n",
    "  - Question C rank: **3**  \n",
    "\n",
    "- **Doc2**  \n",
    "  - Question A rank: **4**  \n",
    "  - Question B rank: **3**  \n",
    "  - Question C rank: **4**  \n",
    "\n",
    "- **Doc3**  \n",
    "  - Question A rank: **3**  \n",
    "  - Question B rank: **1**  \n",
    "  - Question C rank: **2**  \n",
    "\n",
    "- **Doc4**  \n",
    "  - Question A rank: **2**  \n",
    "  - Question B rank: **4**  \n",
    "  - Question C rank: **1**  \n",
    "\n",
    "---\n",
    "\n",
    "## Reciprocal Rank Fusion Calculation\n",
    "\n",
    "![Alt text](RRF.png)\n",
    "\n",
    "\n",
    "---\n",
    "\n",
    "## Final Ranking\n",
    "1. **Doc1** ≈ 0.0487  \n",
    "2. **Doc3** ≈ 0.0487  \n",
    "3. **Doc4** ≈ 0.0484  \n",
    "4. **Doc2** ≈ 0.0469  \n",
    "\n",
    "---\n",
    "\n",
    "✅ **Conclusion**: Both **Doc1** and **Doc3** achieve the highest RRF scores, making them the most relevant across the question rankings.\n"
   ]
  },
  {
   "cell_type": "code",
   "execution_count": 34,
   "id": "39ffbc6c",
   "metadata": {},
   "outputs": [
    {
     "data": {
      "text/plain": [
       "9"
      ]
     },
     "execution_count": 34,
     "metadata": {},
     "output_type": "execute_result"
    }
   ],
   "source": [
    "from langchain.load import dumps, loads\n",
    "\n",
    "def reciprocal_rank_fusion(results: list[list], k=60):\n",
    "    \"\"\" Reciprocal_rank_fusion that takes multiple lists of ranked documents \n",
    "        and an optional parameter k used in the RRF formula \"\"\"\n",
    "    \n",
    "    # Initialize a dictionary to hold fused scores for each unique document\n",
    "    fused_scores = {}\n",
    "\n",
    "    # Iterate through each list of ranked documents\n",
    "    for docs in results:\n",
    "        # Iterate through each document in the list, with its rank (position in the list)\n",
    "        for rank, doc in enumerate(docs):\n",
    "            # Convert the document to a string format to use as a key (assumes documents can be serialized to JSON)\n",
    "            doc_str = dumps(doc)\n",
    "            # If the document is not yet in the fused_scores dictionary, add it with an initial score of 0\n",
    "            if doc_str not in fused_scores:\n",
    "                fused_scores[doc_str] = 0\n",
    "            # Retrieve the current score of the document, if any\n",
    "            previous_score = fused_scores[doc_str]\n",
    "            # Update the score of the document using the RRF formula: 1 / (rank + k)\n",
    "            fused_scores[doc_str] += 1 / (rank + k)\n",
    "\n",
    "    # Sort the documents based on their fused scores in descending order to get the final reranked results\n",
    "    reranked_results = [\n",
    "        (loads(doc), score)\n",
    "        for doc, score in sorted(fused_scores.items(), key=lambda x: x[1], reverse=True)\n",
    "    ]\n",
    "\n",
    "    # Return the reranked results as a list of tuples, each containing the document and its fused score\n",
    "    return reranked_results\n",
    "\n",
    "retrieval_chain_rag_fusion = generate_queries | retriever.map() | reciprocal_rank_fusion\n",
    "docs = retrieval_chain_rag_fusion.invoke({\"question\": question})\n",
    "len(docs)"
   ]
  },
  {
   "cell_type": "code",
   "execution_count": 35,
   "id": "0018c263",
   "metadata": {},
   "outputs": [
    {
     "data": {
      "text/plain": [
       "'**Task decomposition** is the step in an LLM‑powered autonomous agent where a big, complex request is broken down into a series of smaller, manageable sub‑goals or steps that the agent can execute one after another.  \\n\\nIn practice this is done by:\\n\\n* **Prompting the LLM** to “think step‑by‑step” (Chain‑of‑Thought) or to generate multiple possible thoughts at each step (Tree‑of‑Thoughts), thereby turning the original problem into a sequence of simpler subtasks.  \\n* **Explicitly asking the model** for a list of sub‑goals, e.g., “What are the subgoals for achieving\\u202fX?”  \\n* Using **task‑specific instructions** (e.g., “Write a story outline”) or **human‑provided guidance** to define the decomposition.\\n\\nThe resulting sub‑tasks are then fed to the planning, memory, and tool‑use components of the agent, enabling it to tackle the overall objective in a structured, incremental way.'"
      ]
     },
     "execution_count": 35,
     "metadata": {},
     "output_type": "execute_result"
    }
   ],
   "source": [
    "from langchain_core.runnables import RunnablePassthrough\n",
    "\n",
    "# RAG\n",
    "template = \"\"\"Answer the following question based on this context:\n",
    "\n",
    "{context}\n",
    "\n",
    "Question: {question}\n",
    "\"\"\"\n",
    "\n",
    "prompt = ChatPromptTemplate.from_template(template)\n",
    "\n",
    "final_rag_chain = (\n",
    "    {\"context\": retrieval_chain_rag_fusion, \n",
    "     \"question\": itemgetter(\"question\")} \n",
    "    | prompt\n",
    "    | llm\n",
    "    | StrOutputParser()\n",
    ")\n",
    "\n",
    "final_rag_chain.invoke({\"question\":question})"
   ]
  },
  {
   "cell_type": "code",
   "execution_count": null,
   "id": "24bbac7c",
   "metadata": {},
   "outputs": [],
   "source": []
  }
 ],
 "metadata": {
  "kernelspec": {
   "display_name": ".venv (3.12.10)",
   "language": "python",
   "name": "python3"
  },
  "language_info": {
   "codemirror_mode": {
    "name": "ipython",
    "version": 3
   },
   "file_extension": ".py",
   "mimetype": "text/x-python",
   "name": "python",
   "nbconvert_exporter": "python",
   "pygments_lexer": "ipython3",
   "version": "3.12.10"
  }
 },
 "nbformat": 4,
 "nbformat_minor": 5
}
